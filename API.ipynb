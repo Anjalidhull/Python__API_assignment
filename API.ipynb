{
 "cells": [
  {
   "cell_type": "code",
   "execution_count": null,
   "id": "ab0a37c8-006c-43ae-ba89-1f3506a5c8c0",
   "metadata": {},
   "outputs": [],
   "source": [
    "Q1. What is an API? Give an example, where an API is used in real life.\n"
   ]
  },
  {
   "cell_type": "code",
   "execution_count": null,
   "id": "4202b642-a911-4b23-9ef9-bde055ab0928",
   "metadata": {},
   "outputs": [],
   "source": [
    "API is an abbreviation for Application Programming Interface which is a collection of communication \n",
    "protocols and subroutines used by various programs to communicate between them. A programmer can make use of\n",
    "various API tools to make their program easier and simpler. Also, an API facilitates programmers with an efficient way \n",
    "to develop their software programs. Thus in simpler terms, an API helps two programs or applications to communicate \n",
    "with each other by providing them with the necessary tools and functions. It takes the request from the user and sends\n",
    "it to the service provider and then again sends the result generated\n",
    "from the service provider to the desired user.\n",
    "\n",
    "let’s take a real-life example of an API, you can think of an API like a waiter in a restaurant who listens to your order\n",
    "request, goes to the chef, takes the food items ordered andgets back to you with the order. "
   ]
  },
  {
   "cell_type": "code",
   "execution_count": null,
   "id": "86663428-a895-4e21-850d-86a795127d3f",
   "metadata": {},
   "outputs": [],
   "source": [
    "Q2. Give advantages and disadvantages of using API.\n"
   ]
  },
  {
   "cell_type": "code",
   "execution_count": null,
   "id": "b48cf118-4bf4-4aa8-964d-59dd5f849053",
   "metadata": {},
   "outputs": [],
   "source": [
    "Advantages of APIs \n",
    "Efficiency:\n",
    "    API produces efficient, quicker, and more reliable results than the outputs produced by human beings in an organization.\n",
    "Flexible delivery of services:\n",
    "    API provides fast and flexible delivery of services according to developers’ requirements.\n",
    "Integration: \n",
    "    The best feature of API is that it allows the movement of data between various sites and thus enhances the integrated user experience.\n",
    "Automation:\n",
    "    As API makes use of robotic computers rather than humans, it produces better and more automated results.\n",
    "New functionality:\n",
    "    While using API the developers find new tools and functionality for API exchanges."
   ]
  },
  {
   "cell_type": "code",
   "execution_count": null,
   "id": "646260b5-2582-4b99-834b-ab058ecf6935",
   "metadata": {},
   "outputs": [],
   "source": [
    "Disadvantages of APIs \n",
    "Cost: \n",
    "    Developing and implementing API is costly at times and requires high maintenance and support from developers.\n",
    "Security issues: \n",
    "    Using API adds another layer of surface which is then prone to attacks, and hence the security risk problem is common in APIs.\n"
   ]
  },
  {
   "cell_type": "code",
   "execution_count": null,
   "id": "4d519277-dd63-4623-9db8-ca1f40dc84a4",
   "metadata": {},
   "outputs": [],
   "source": [
    "Q3. What is a Web API? Differentiate between API and Web API.\n"
   ]
  },
  {
   "cell_type": "code",
   "execution_count": null,
   "id": "40188362-9cee-4c41-8480-a07f8fd9fd2e",
   "metadata": {},
   "outputs": [],
   "source": [
    "#API\n",
    "Web API Is simply an API for the web. It is an API that can be accessed using the HTTP protocol. It can be built using Java, .nET, etc\n",
    "\n",
    "#DIFFRENCE\n",
    "An API acts as an interface that allows proper communication between two programs whereas a web application is a\n",
    "network-based resource responsible for completing a single task. Also, it’s important to know that “All web services\n",
    "are APIs, but not all APIs are web”.\n",
    "\n",
    "The difference between an API and a web application is that API allows two-way communication and web applications are just a\n",
    "way for users to interact through a web browser. A web application may have an API to complete the requests. "
   ]
  },
  {
   "cell_type": "code",
   "execution_count": null,
   "id": "d2d89f97-7504-48ca-91e8-9c2613f218f9",
   "metadata": {},
   "outputs": [],
   "source": [
    "Q4. Explain REST and SOAP Architecture. Mention shortcomings of SOAP."
   ]
  },
  {
   "cell_type": "markdown",
   "id": "7db328ad-b771-47f5-92ff-764496657942",
   "metadata": {},
   "source": [
    "REST:-"
   ]
  },
  {
   "cell_type": "code",
   "execution_count": null,
   "id": "32144aa8-5274-404c-9652-010fd407e112",
   "metadata": {},
   "outputs": [],
   "source": [
    "REST  stand for Representational State Transfer. REST API is a way of accessing web services in a simple\n",
    "and flexible way without having any processing.\n",
    "\n",
    "A request is sent from client to server in the form of a web URL as HTTP GET or POST or PUT or DELETE request.\n",
    "After that, a response comes back from the server in the form of a resource which can be anything like HTML, XML, \n",
    "Image, or JSON. But now JSON is the most popular format being used in Web Services."
   ]
  },
  {
   "cell_type": "markdown",
   "id": "72bd0c3c-fd29-4eb4-8f98-736adc60cfb3",
   "metadata": {},
   "source": [
    "SOAP:-"
   ]
  },
  {
   "cell_type": "code",
   "execution_count": null,
   "id": "a2fe88d4-9fde-47b4-a0fb-e1b745aca625",
   "metadata": {},
   "outputs": [],
   "source": [
    "SOAP stand for Simple Object Access Protocol .It is a network protocol for exchanging structured data between nodes. \n",
    "It uses XML format to transfer messages. It works on top of application layer protocols like HTML and SMTP for notations and\n",
    "transmission. SOAP allows processes to communicate throughout platforms, languages and operating \n",
    "systems, since protocols like HTTP are already installed on all platforms."
   ]
  },
  {
   "cell_type": "code",
   "execution_count": null,
   "id": "5b81cbb8-7750-4be0-b82e-77c189406738",
   "metadata": {},
   "outputs": [],
   "source": [
    "Shortcmoings pf SOAP:-\n",
    "\n",
    "\n",
    "SOAP does not support caching API calls.\n",
    "SOAP is much more complicated than REST, which can have performance implications.\n",
    "SOAP is much less adaptable than REST.\n",
    "SOAP is usually slower than REST."
   ]
  },
  {
   "cell_type": "code",
   "execution_count": null,
   "id": "84d2e175-37e0-456a-8368-2a823b9fb8b1",
   "metadata": {},
   "outputs": [],
   "source": [
    "Q5. Differentiate between REST and SOAP"
   ]
  },
  {
   "cell_type": "markdown",
   "id": "ac5cc0eb-32d0-4799-a6cc-1aea6c64e428",
   "metadata": {},
   "source": [
    "SOAP vs. REST\n"
   ]
  },
  {
   "cell_type": "code",
   "execution_count": null,
   "id": "36db32f2-d0fd-47a3-93a0-5b071d5aa17b",
   "metadata": {},
   "outputs": [],
   "source": [
    "SOAP:-\n",
    "     \n",
    "  A) SOAP (Simple Object Access Protocol) is a protocol with specific requirements like XML messaging \n",
    "  B) Heavier and needs more bandwidth.\n",
    "  C)It defines its own security.\n",
    "  D)It permits XML-based data format only.\n",
    "  E) SOAP calls cannot be cached.\n",
    "\n",
    "REST:-\n",
    "    A)REST (Representational State Transfer) is a set of guidelines (architectural style) offering flexible implementation.\n",
    "    B)Lightweight and needs less bandwidth.\n",
    "    C)It inherits security from the underlying transport.\n",
    "    D)It permits different data formats such as plain text, HTML, XML, JSON, etc.\n",
    "    E)REST calls can be cached.\n",
    "\n",
    "\n",
    "\n"
   ]
  }
 ],
 "metadata": {
  "kernelspec": {
   "display_name": "Python 3 (ipykernel)",
   "language": "python",
   "name": "python3"
  },
  "language_info": {
   "codemirror_mode": {
    "name": "ipython",
    "version": 3
   },
   "file_extension": ".py",
   "mimetype": "text/x-python",
   "name": "python",
   "nbconvert_exporter": "python",
   "pygments_lexer": "ipython3",
   "version": "3.10.8"
  }
 },
 "nbformat": 4,
 "nbformat_minor": 5
}
